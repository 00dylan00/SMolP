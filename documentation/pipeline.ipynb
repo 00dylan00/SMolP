{
 "cells": [
  {
   "cell_type": "code",
   "execution_count": null,
   "metadata": {},
   "outputs": [],
   "source": [
    "\"\"\"Pipelin\n",
    "\n",
    "Here we design and define the pipeline for the project.\n",
    "\n",
    "Structure:\n",
    "    1. Imports, Variables, Functions\n",
    "    2. Load Data\n",
    "    3. Preprocess Data\n",
    "    4. Train Model\n",
    "    5. Evaluate Model\n",
    "    6. Save Model\n",
    "\"\"\"\n",
    "\n",
    "# 1. Imports, Variables, Functions\n",
    "# imports\n",
    "import numpy as np, pandas as pd, matplotlib.pyplot as plt, seaborn as sns\n",
    "\n",
    "# variables\n",
    "\n",
    "\n",
    "# functions\n",
    "\n",
    "# 2. Load Data\n",
    "# 3. Preprocess Data\n",
    "# 4. Train Model\n",
    "# 5. Evaluate Model\n",
    "# 6. Save Model"
   ]
  }
 ],
 "metadata": {
  "language_info": {
   "name": "python"
  }
 },
 "nbformat": 4,
 "nbformat_minor": 2
}
